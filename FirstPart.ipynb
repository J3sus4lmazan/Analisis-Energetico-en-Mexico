{
  "nbformat": 4,
  "nbformat_minor": 0,
  "metadata": {
    "colab": {
      "name": "FirstPart.ipynb",
      "provenance": [],
      "collapsed_sections": [],
      "authorship_tag": "ABX9TyMbafRWGmoa8S6/ZimXTr51",
      "include_colab_link": true
    },
    "kernelspec": {
      "name": "python3",
      "display_name": "Python 3"
    },
    "language_info": {
      "name": "python"
    }
  },
  "cells": [
    {
      "cell_type": "markdown",
      "metadata": {
        "id": "view-in-github",
        "colab_type": "text"
      },
      "source": [
        "<a href=\"https://colab.research.google.com/github/J3sus4lmazan/Analisis-Energetico-en-Mexico/blob/main/FirstPart.ipynb\" target=\"_parent\"><img src=\"https://colab.research.google.com/assets/colab-badge.svg\" alt=\"Open In Colab\"/></a>"
      ]
    },
    {
      "cell_type": "code",
      "metadata": {
        "id": "slmlhaNfFAYA"
      },
      "source": [
        "#Conexion a base de datos local\n",
        "import mysql.connector\n",
        "import pandas as pd\n",
        "import numpy as np\n",
        "import matplotlib.pyplot as plt\n",
        "import seaborn as sns\n",
        "import re\n",
        "import geopandas as gpd\n",
        "import folium\n",
        "import tensorflow as tf\n",
        "from sklearn.model_selection import train_test_split\n",
        "from sklearn.cluster import KMeans\n",
        "from sklearn.linear_model import LinearRegression\n",
        "from sklearn.metrics import mean_squared_error\n",
        "from sklearn.svm import SVC #Support Vector Classifier\n",
        "from sklearn.pipeline import make_pipeline"
      ],
      "execution_count": null,
      "outputs": []
    },
    {
      "cell_type": "code",
      "metadata": {
        "id": "dRvRjCwvFL4a"
      },
      "source": [
        "cnx = mysql.connector.connect(\n",
        "    host=\"localhost\",\n",
        "    port=3306,\n",
        "    user=\"root\",\n",
        "    password='hola20',\n",
        "    database='miproyecto'\n",
        ")\n",
        "cursor = cnx.cursor()"
      ],
      "execution_count": null,
      "outputs": []
    },
    {
      "cell_type": "code",
      "metadata": {
        "id": "TL_da7oMFU9e"
      },
      "source": [
        "#Se obtienen la informacion de la tabla generacion bruta por tecnologia\n",
        "cursor.execute(\"SELECT * FROM genbrutatech\")\n",
        "GBT = cursor.fetchall() #Generacion bruta por tecnologia\n",
        "GBTdf = pd.DataFrame(GBT, columns=['GBT_ID', 'Month_Year', 'EnergyTypeID', 'MegaWatt_hourTotal', 'CapMWattPerTech'])\n",
        "GBTdf = GBTdf.set_index('GBT_ID', drop=True)\n",
        "GBTdf.head()"
      ],
      "execution_count": null,
      "outputs": []
    },
    {
      "cell_type": "code",
      "metadata": {
        "id": "8MoEtzh2FbjB"
      },
      "source": [
        "#Se obtienen la informacion de la tabla Meses\n",
        "cursor.execute(\"SELECT * FROM months\")\n",
        "M = cursor.fetchall() #Meses\n",
        "Mdf = pd.DataFrame(M, columns=['Month_YearID', 'MonthDescription','Y34R'])\n",
        "Mdf = Mdf.set_index('Month_YearID', drop=True)\n",
        "Mdf.head()"
      ],
      "execution_count": null,
      "outputs": []
    },
    {
      "cell_type": "code",
      "metadata": {
        "id": "CRWvfj6gFih6"
      },
      "source": [
        "#Se obtienen la informacion de tipo de energia\n",
        "cursor.execute(\"SELECT * FROM energytypes\")\n",
        "ET = cursor.fetchall() #Tipo de energia\n",
        "ETdf = pd.DataFrame(ET, columns=['EnergyTypeID', 'EnergyTypeName'])\n",
        "ETdf = ETdf.set_index('EnergyTypeID', drop=True)\n",
        "ETdf"
      ],
      "execution_count": null,
      "outputs": []
    },
    {
      "cell_type": "code",
      "metadata": {
        "id": "WwudsJwjFmh1"
      },
      "source": [
        "#Se obtienen la informacion de tipo de energia\n",
        "cursor.execute(\"SELECT * FROM energytypes\")\n",
        "ET = cursor.fetchall() #Tipo de energia\n",
        "ETdf = pd.DataFrame(ET, columns=['EnergyTypeID', 'EnergyTypeName'])\n",
        "ETdf = ETdf.set_index('EnergyTypeID', drop=True)\n",
        "ETdf"
      ],
      "execution_count": null,
      "outputs": []
    },
    {
      "cell_type": "code",
      "metadata": {
        "id": "ww4IW-YWFqHK"
      },
      "source": [
        "#Se unen las 3 tablas\n",
        "GBT_full = pd.merge(GBTdf, Mdf, left_on='Month_Year', right_index=True).sort_index()\n",
        "GBT_full = pd.merge(GBT_full, ETdf, left_on='EnergyTypeID', right_index=True).sort_index()\n",
        "GBT_full = GBT_full.dropna(axis = 0, how = 'any') #Se retiran los NaN\n",
        "GBT_full = GBT_full.drop(columns=['Month_Year', 'EnergyTypeID']) #Se retiran las columnas con valores referenciales\n",
        "GBT_full"
      ],
      "execution_count": null,
      "outputs": []
    },
    {
      "cell_type": "code",
      "metadata": {
        "id": "bqbB5cHIFwIJ"
      },
      "source": [
        "#Se obtiene toda la informacion por tipo de tecnologia\n",
        "for_Termo = GBT_full['EnergyTypeName'] == 'Termoeléctrica'\n",
        "for_Dual = GBT_full['EnergyTypeName'] == 'Dual'\n",
        "for_Carbo = GBT_full['EnergyTypeName'] == 'Carboeléctrica'\n",
        "for_Nucleo = GBT_full['EnergyTypeName'] == 'Nucleoeléctrica'\n",
        "for_Geo = GBT_full['EnergyTypeName'] == 'Geotérmica'\n",
        "for_Eolica = GBT_full['EnergyTypeName'] == 'Eólica'\n",
        "for_Hidro = GBT_full['EnergyTypeName'] == 'Hidroeléctrica'\n",
        "for_Foto = GBT_full['EnergyTypeName'] == 'Fotovoltaica'\n",
        "GBT_Termo = GBT_full[for_Termo]\n",
        "GBT_Dual = GBT_full[for_Dual]\n",
        "GBT_Carbo = GBT_full[for_Carbo]\n",
        "GBT_Nucleo = GBT_full[for_Nucleo]\n",
        "GBT_Geo = GBT_full[for_Geo]\n",
        "GBT_Eolica = GBT_full[for_Eolica]\n",
        "GBT_Hidro = GBT_full[for_Hidro]\n",
        "GBT_Foto = GBT_full[for_Foto]\n",
        "GBT_Foto"
      ],
      "execution_count": null,
      "outputs": []
    },
    {
      "cell_type": "code",
      "metadata": {
        "id": "CUEo8eIxF2Eq"
      },
      "source": [
        "#Se obtiene la informacion de la energia generada por estado\n",
        "cursor.execute(\"SELECT GBS_ID, MegaWatt_hourTotal, MonthDescription, Y34R, StateName FROM genbruperstate JOIN months ON genbruperstate.Month_YearID = months.Month_YearID JOIN states ON states.State_ID = genbruperstate.State_ID;\") \n",
        "               #genbruperstate.Month_YearID, genbruperstate.State_ID  columnas con valores referenciales\n",
        "GBS = cursor.fetchall() #Generacion bruta por estado\n",
        "GBSdf = pd.DataFrame(GBS, columns=['GBS_ID', 'MegaWatt_hourTotal', 'MonthDescription', 'Year','StateName'])\n",
        "#, 'Month_YearID', 'State_ID'\n",
        "GBSdf = GBSdf.set_index('GBS_ID', drop=True)\n",
        "GBSdf = GBSdf.dropna(axis = 0, how = 'any') #Se retiran los NaN\n",
        "GBSdf.head()"
      ],
      "execution_count": null,
      "outputs": []
    },
    {
      "cell_type": "code",
      "metadata": {
        "id": "pj8K1AMQF6f6"
      },
      "source": [
        "#Se obtiene la informacion de la tabla de capacidad efectiva\n",
        "cursor.execute(\"SELECT * FROM effectivecap\")\n",
        "EFC = cursor.fetchall() #Capacidad efectiva\n",
        "EFCdf = pd.DataFrame(EFC, columns=['EFC_ID', 'MegaWatt', 'Month_YearID', 'State_ID'])\n",
        "EFCdf = EFCdf.set_index('EFC_ID', drop=True)\n",
        "#Se obtiene la informacion de la tabla de estados\n",
        "cursor.execute(\"SELECT * FROM states\")\n",
        "S = cursor.fetchall() #Estados\n",
        "Sdf = pd.DataFrame(S, columns=['State_ID', 'StateName'])\n",
        "Sdf = Sdf.set_index('State_ID', drop=True)\n",
        "#Se combinan las 3 tablas\n",
        "EFC_full = pd.merge(EFCdf, Mdf, left_on='Month_YearID', right_index=True).sort_index()\n",
        "EFC_full = pd.merge(EFC_full, Sdf, left_on='State_ID', right_index=True).sort_index()\n",
        "EFC_full = EFC_full.dropna(axis = 0, how = 'any') #Se retiran los NaN\n",
        "EFC_full = EFC_full.drop(columns=['Month_YearID', 'State_ID']) #Se retiran las columnas con valores referenciales\n",
        "EFC_full.head()"
      ],
      "execution_count": null,
      "outputs": []
    },
    {
      "cell_type": "code",
      "metadata": {
        "id": "JBz4TFiASgpV"
      },
      "source": [
        "#Se obtiene la informacion de la tabla de comercio interior\n",
        "cursor.execute(\"SELECT * FROM comerciointer\")\n",
        "CI = cursor.fetchall() #Comercio interior\n",
        "CIdf = pd.DataFrame(CI, columns=['CI_ID', 'MegaWatt_hour', 'QuantityUsers', 'Month_YearID', 'Sector', 'CentsPerKW_hour'])\n",
        "CIdf = CIdf.set_index('CI_ID', drop=True)\n",
        "#Se combinan con la tabla de meses\n",
        "CI_full = pd.merge(CIdf, Mdf, left_on='Month_YearID', right_index=True).sort_index()\n",
        "CI_full = CI_full.dropna(axis = 0, how = 'any') #Se retiran los NaN\n",
        "CI_full = CI_full.drop(columns=['Month_YearID']) #Se retiran las columnas con valores referenciales\n",
        "CI_full.head()"
      ],
      "execution_count": null,
      "outputs": []
    },
    {
      "cell_type": "code",
      "metadata": {
        "id": "xp2gkOhvSla4"
      },
      "source": [
        "#Se obtiene toda la informacion por sector\n",
        "for_Res = CI_full['Sector'] == 'Residencial'\n",
        "for_Com = CI_full['Sector'] == 'Comercial'\n",
        "for_Serv = CI_full['Sector'] == 'Servicios'\n",
        "for_Agr = CI_full['Sector'] == 'Agricola'\n",
        "for_Emp_Med = CI_full['Sector'] == 'Empresa Mediana'\n",
        "for_G_Ind = CI_full['Sector'] == 'Gran Industria'\n",
        "CI_Res = CI_full[for_Res]\n",
        "CI_Com = CI_full[for_Com]\n",
        "CI_Serv = CI_full[for_Serv]\n",
        "CI_Agr = CI_full[for_Agr]\n",
        "CI_Emp_Med = CI_full[for_Emp_Med]\n",
        "CI_G_Ind = CI_full[for_G_Ind]\n",
        "CI_G_Ind.head()"
      ],
      "execution_count": null,
      "outputs": []
    },
    {
      "cell_type": "code",
      "metadata": {
        "id": "qfkyDQzJSpcI"
      },
      "source": [
        "#Se obtiene la informacion de la tabla de comercio exterior\n",
        "cursor.execute(\"SELECT * FROM comercioexter\")\n",
        "CE = cursor.fetchall() #Comercio exterior\n",
        "CEdf = pd.DataFrame(CE, columns=['CE_ID', 'MegaWatt_hour', 'Month_YearID', 'Country', 'IMP_EXP'])\n",
        "CEdf = CEdf.set_index('CE_ID', drop=True)\n",
        "#Se combinan con la tabla de meses\n",
        "CE_full = pd.merge(CEdf, Mdf, left_on='Month_YearID', right_index=True).sort_index()\n",
        "CE_full = CE_full.dropna(axis = 0, how = 'any') #Se retiran los NaN\n",
        "CE_full = CE_full.drop(columns=['Month_YearID']) #Se retiran las columnas con valores referenciales\n",
        "CE_full.head()"
      ],
      "execution_count": null,
      "outputs": []
    },
    {
      "cell_type": "code",
      "metadata": {
        "id": "OdTE2EWfSsuw"
      },
      "source": [
        "#Se separa la informacion de energia importada y exportada\n",
        "for_impor = CE_full['IMP_EXP'] == 'Importada'\n",
        "for_exp = CE_full['IMP_EXP'] == 'Exportada'\n",
        "CE_impor = CE_full[for_impor]\n",
        "CE_exp = CE_full[for_exp]\n",
        "CE_impor.head()"
      ],
      "execution_count": null,
      "outputs": []
    },
    {
      "cell_type": "code",
      "metadata": {
        "id": "IYavPTNaF-qY"
      },
      "source": [
        "#¿Cuanta diferencia de energia producida por termoelectica existe con respecto a la fotovoltaica y eolica?\n",
        "Q1 = GBT_full.groupby('EnergyTypeName').sum()\n",
        "total_termoelectrica = Q1.iloc[7, 0]\n",
        "total_fotovoltaica = Q1.iloc[3,0]\n",
        "total_eolica = Q1.iloc[2,0]\n",
        "diferencia_1 = total_termoelectrica / total_fotovoltaica\n",
        "diferencia_2 = total_termoelectrica / total_eolica\n",
        "print(\"Se produce\", diferencia_1, \"veces mas energia termoelectrica que fotovoltaica\", \"\\n\", \"Se produce\", diferencia_2, \"veces mas energia termoelectrica que eolica\")"
      ],
      "execution_count": null,
      "outputs": []
    },
    {
      "cell_type": "code",
      "metadata": {
        "id": "kyq3i3YaGDWU"
      },
      "source": [
        "#¿Cuales son los 3 principales estados que más producen energia?\n",
        "Q2 = GBSdf.groupby('StateName').sum()\n",
        "Q2 = Q2.sort_values('MegaWatt_hourTotal', ascending=False)\n",
        "Q2 = Q2.iloc[0:3]\n",
        "Q2 / 1000000 #cantidad en millon por megawatt hora"
      ],
      "execution_count": null,
      "outputs": []
    },
    {
      "cell_type": "code",
      "metadata": {
        "id": "8Ag-ewGcGHXv"
      },
      "source": [
        "#¿Cual es el estado con mayor capacidad efectiva en la actualidad?\n",
        "Q3 = EFC_full.groupby('StateName').sum()\n",
        "Q3 = Q3.sort_values('MegaWatt', ascending=False)\n",
        "Q3 = Q3.iloc[0:3]\n",
        "Q3"
      ],
      "execution_count": null,
      "outputs": []
    },
    {
      "cell_type": "code",
      "metadata": {
        "id": "ce6Xw6LSGLc3"
      },
      "source": [
        "#¿Cuál es el sector que más consumo de energía realiza?\n",
        "Q4 = CI_full.groupby('Sector').sum()\n",
        "Q4 = Q4.sort_values('MegaWatt_hour', ascending = False)\n",
        "Q4.iloc[0]"
      ],
      "execution_count": null,
      "outputs": []
    },
    {
      "cell_type": "code",
      "metadata": {
        "id": "NhmWtgjbGPlN"
      },
      "source": [
        "#¿Cuál es el promedio de energia que se exporta a Estados Unidos?\n",
        "Q5 = CE_full.groupby('Country').mean()\n",
        "Q5 = Q5[Q5.index == 'Estados Unidos']\n",
        "Q5"
      ],
      "execution_count": null,
      "outputs": []
    },
    {
      "cell_type": "code",
      "metadata": {
        "id": "OMp_W0cOGTkt"
      },
      "source": [
        "#Se cierra el cursor\n",
        "cursor.close()\n",
        "#TABLAS\n",
        "#GBT_full   Generacion bruta por tipo de tecnologia\n",
        "#GBSdf      Generacion bruta por estado\n",
        "#CI_full    Comercio Interno\n",
        "#CE_full    Comercio exterior"
      ],
      "execution_count": null,
      "outputs": []
    },
    {
      "cell_type": "code",
      "metadata": {
        "id": "EUb2A03MGXuE"
      },
      "source": [
        "#Se grafica la energia generada\n",
        "GBT_by_year = GBT_full.groupby('Y34R')['MegaWatt_hourTotal'].mean()\n",
        "Grafica_GBT_0 = GBT_by_year.plot(kind='bar',cmap='ocean')\n",
        "plt.ylabel('Mega Watts hora')\n",
        "plt.xlabel('Año')\n",
        "plt.title('Promedio de Energia generada 2005-2019');"
      ],
      "execution_count": null,
      "outputs": []
    },
    {
      "cell_type": "code",
      "metadata": {
        "id": "tDLM_OxnGbhs"
      },
      "source": [
        "#Grafica de caja\n",
        "N = GBT_full.groupby('MonthDescription').sum()\n",
        "sns.set(style=\"whitegrid\");\n",
        "\n",
        "sns.boxplot(x=N['MegaWatt_hourTotal']);\n",
        "plt.axvline(x=N['MegaWatt_hourTotal'].mean(), c='y');"
      ],
      "execution_count": null,
      "outputs": []
    },
    {
      "cell_type": "code",
      "metadata": {
        "id": "4b7J6-tCGfky"
      },
      "source": [
        "#Grafica de energia solar anual\n",
        "GBT_foto_by_year = GBT_Foto.groupby('Y34R')['MegaWatt_hourTotal'].sum()\n",
        "Grafica_GBT_1 = GBT_foto_by_year.plot(kind='bar',cmap='YlOrRd')\n",
        "plt.ylabel('Mega Watts hora')\n",
        "plt.xlabel('Año')\n",
        "plt.title('Total de Energia solar 2005-2019');"
      ],
      "execution_count": null,
      "outputs": []
    },
    {
      "cell_type": "code",
      "metadata": {
        "id": "wKf4pICEGkLm"
      },
      "source": [
        "#Grafica de energia termoelectrica anual\n",
        "GBT_termo_by_year = GBT_Termo.groupby('Y34R')['MegaWatt_hourTotal'].sum()\n",
        "Grafica_GBT_2 = GBT_termo_by_year.plot(kind='bar',cmap='Set1')\n",
        "plt.ylabel('Mega Watts hora')\n",
        "plt.xlabel('Año')\n",
        "plt.title('Total de Energia Termoelectrica 2005-2019');"
      ],
      "execution_count": null,
      "outputs": []
    },
    {
      "cell_type": "code",
      "metadata": {
        "id": "V_OVn2H0Goh4"
      },
      "source": [
        "#Grafica de energia Dual anual\n",
        "GBT_dual_by_year = GBT_Dual.groupby('Y34R')['MegaWatt_hourTotal'].sum()\n",
        "Grafica_GBT_3 = GBT_dual_by_year.plot(kind='bar',cmap='Accent')\n",
        "plt.ylabel('Mega Watts hora')\n",
        "plt.xlabel('Año')\n",
        "plt.title('Total de Energia Dual 2005-2019');"
      ],
      "execution_count": null,
      "outputs": []
    },
    {
      "cell_type": "code",
      "metadata": {
        "id": "NLLNwOkTUoJm"
      },
      "source": [
        "#Grafica de energia Carboelectrica anual\n",
        "GBT_carbo_by_year = GBT_Carbo.groupby('Y34R')['MegaWatt_hourTotal'].sum()\n",
        "Grafica_GBT_4 = GBT_carbo_by_year.plot(kind='bar',cmap='Pastel1')\n",
        "plt.ylabel('Mega Watts hora')\n",
        "plt.xlabel('Año')\n",
        "plt.title('Total de Energia Carboelectrica 2005-2019');"
      ],
      "execution_count": null,
      "outputs": []
    },
    {
      "cell_type": "code",
      "metadata": {
        "id": "qUcyRQR2UuHA"
      },
      "source": [
        "#Grafica de energia Nucleoelectrica anual\n",
        "GBT_nucleo_by_year = GBT_Nucleo.groupby('Y34R')['MegaWatt_hourTotal'].sum()\n",
        "Grafica_GBT_5 = GBT_nucleo_by_year.plot(kind='bar',cmap='Pastel2')\n",
        "plt.ylabel('Mega Watts hora')\n",
        "plt.xlabel('Año')\n",
        "plt.title('Total de Energia Nucleoelectrica 2005-2019');"
      ],
      "execution_count": null,
      "outputs": []
    },
    {
      "cell_type": "code",
      "metadata": {
        "id": "dpOjyIwMUzTR"
      },
      "source": [
        "#Grafica de energia Geotermica anual\n",
        "GBT_geo_by_year = GBT_Geo.groupby('Y34R')['MegaWatt_hourTotal'].sum()\n",
        "Grafica_GBT_6 = GBT_geo_by_year.plot(kind='bar',cmap='PuOr')\n",
        "plt.ylabel('Mega Watts hora')\n",
        "plt.xlabel('Año')\n",
        "plt.title('Total de Energia Geotermica 2005-2019');"
      ],
      "execution_count": null,
      "outputs": []
    },
    {
      "cell_type": "code",
      "metadata": {
        "id": "6tgBQwR-U37I"
      },
      "source": [
        "#Grafica de energia Eolica anual\n",
        "GBT_eolica_by_year = GBT_Eolica.groupby('Y34R')['MegaWatt_hourTotal'].sum()\n",
        "Grafica_GBT_7 = GBT_eolica_by_year.plot(kind='bar',cmap='RdGy')\n",
        "plt.ylabel('Mega Watts hora')\n",
        "plt.xlabel('Año')\n",
        "plt.title('Total de Energia Eolica 2005-2019');"
      ],
      "execution_count": null,
      "outputs": []
    },
    {
      "cell_type": "code",
      "metadata": {
        "id": "WsJ5nSSIVDAS"
      },
      "source": [
        "#Grafica de energia Hidroelectrica anual\n",
        "GBT_hidro_by_year = GBT_Hidro.groupby('Y34R')['MegaWatt_hourTotal'].sum()\n",
        "Grafica_GBT_8 = GBT_hidro_by_year.plot(kind='bar',cmap='cool')\n",
        "plt.ylabel('Mega Watts hora')\n",
        "plt.xlabel('Año')\n",
        "plt.title('Total de Energia Hidroelectrica 2005-2019');"
      ],
      "execution_count": null,
      "outputs": []
    },
    {
      "cell_type": "code",
      "metadata": {
        "id": "-p4zcKPHVGyA"
      },
      "source": [
        "#Grafica de proporciones\n",
        "GBT_by_energy = GBT_full.groupby('EnergyTypeName')['MegaWatt_hourTotal'].sum()\n",
        "plt.figure(figsize=(10,8))\n",
        "Grafica_2_GBT = GBT_by_energy.plot(kind='pie',cmap='Paired')\n",
        "plt.ylabel('')\n",
        "plt.xlabel('Tipos de energia')\n",
        "plt.title('Energia generada 2005-2019 por tipo de tecnologia');"
      ],
      "execution_count": null,
      "outputs": []
    },
    {
      "cell_type": "code",
      "metadata": {
        "id": "GUnaTdpcVKis"
      },
      "source": [
        "#Preparacion de datos para mapa cloropletico\n",
        "for_planta_movil = EFC_full['StateName'] != 'Plantas Móviles'\n",
        "EFC_sin_pm = EFC_full[for_planta_movil]\n",
        "EFC_by_year = EFC_sin_pm.groupby('StateName')['MegaWatt'].sum()\n",
        "EFC_for_map = EFC_by_year.to_frame()\n",
        "EFC_for_map = EFC_for_map.rename_axis('index').reset_index()\n",
        "EFC_for_map\n",
        "\n",
        "#Se retiran los acentos para homologar el json con las coordenadas geograficas\n",
        "EFC_for_map = EFC_for_map.replace({\n",
        "    'Michoacán': 'Michoacan',\n",
        "    'México': 'Mexico',\n",
        "    'Nuevo León': 'Nuevo Leon',\n",
        "    'Querétaro': 'Queretaro',\n",
        "    'San Luis Potosí': 'San Luis Potosi',\n",
        "    'Yucatán': 'Yucatan'\n",
        "})\n",
        "\n",
        "EFC_for_map.head()"
      ],
      "execution_count": null,
      "outputs": []
    },
    {
      "cell_type": "code",
      "metadata": {
        "id": "gt94rsY2VOM8"
      },
      "source": [
        "#Se preparan los datos con las coodenadas\n",
        "df_geo = gpd.read_file('../Procesamiendo de datos/mexico2.json')\n",
        "df_geo = df_geo.merge(EFC_for_map, left_on='name', right_on='index')\n",
        "geojson = '../Procesamiendo de datos/mexico2.json'\n",
        "df_geo"
      ],
      "execution_count": null,
      "outputs": []
    },
    {
      "cell_type": "code",
      "metadata": {
        "id": "YmK4mPlAVRpk"
      },
      "source": [
        "## Mapa cloropletico\n",
        "mapa = folium.Map(location=[24.5, -99], zoom_start=4.5)\n",
        "\n",
        "folium.Choropleth(\n",
        "    geo_data=geojson,\n",
        "    data=EFC_for_map,\n",
        "    columns=['index', 'MegaWatt'],\n",
        "    key_on='feature.properties.name',\n",
        "    fill_color='YlGnBu',\n",
        ").add_to(mapa)\n",
        "\n",
        "mapa"
      ],
      "execution_count": null,
      "outputs": []
    },
    {
      "cell_type": "code",
      "metadata": {
        "id": "o-VQSjb4VUog"
      },
      "source": [
        "#Grafica de energia consumida por sector\n",
        "CI_by_sector = CI_full.groupby('Sector')['MegaWatt_hour'].sum()\n",
        "plt.figure(figsize=(10,8))\n",
        "Grafica_1_CI = CI_by_sector.plot(kind='pie',cmap='Paired')\n",
        "plt.ylabel('')\n",
        "plt.xlabel('Sectores')\n",
        "plt.title('Energia consumida por sector 2005-2019');"
      ],
      "execution_count": null,
      "outputs": []
    },
    {
      "cell_type": "code",
      "metadata": {
        "id": "WKUq61QLVZVw"
      },
      "source": [
        "#Proyecciones con regresion lineal\n",
        "#Aqui elegiremos 3 campos: Cantidad de energia consumida, cantidad de usuarios y año. Dando como resultado \n",
        "#una proyeccion del costo en centavos por KW hora.\n",
        "\n",
        "# Lista de proyecciones\n",
        "#CI_Res = residencial \n",
        "#CI_Emp_Med = empresa mediana\n",
        "#CI_G_Ind = Gran industria\n",
        "\n",
        "#Proyeccion sector residencial\n",
        "Xr = CI_Res[['MegaWatt_hour', 'QuantityUsers','Y34R']]\n",
        "Yr = CI_Res['CentsPerKW_hour']"
      ],
      "execution_count": null,
      "outputs": []
    },
    {
      "cell_type": "code",
      "metadata": {
        "id": "DVWIjvA6Vc_1"
      },
      "source": [
        "#Dividir los datos en Train y Test\n",
        "Xr_train, Xr_test, Yr_train, Yr_test = train_test_split(Xr, Yr, test_size = 0.4, random_state=5)\n",
        "print(Xr_train.shape)\n",
        "print(Xr_test.shape)\n",
        "print(Yr_train.shape)\n",
        "print(Yr_test.shape)"
      ],
      "execution_count": null,
      "outputs": []
    },
    {
      "cell_type": "code",
      "metadata": {
        "id": "ccvqKzUfVhDl"
      },
      "source": [
        "#Entrenamiento y prediccion\n",
        "lin_model = LinearRegression()\n",
        "lin_model.fit(Xr_train, Yr_train)"
      ],
      "execution_count": null,
      "outputs": []
    },
    {
      "cell_type": "code",
      "metadata": {
        "id": "YB4fasG6VkUV"
      },
      "source": [
        "yr_train_predict = lin_model.predict(Xr_train)\n",
        "MSE = mean_squared_error(Yr_train,yr_train_predict)\n",
        "print(\"Entrenamiento: MSE =\"+str(MSE))\n",
        "\n",
        "yr_test_predict = lin_model.predict(Xr_test)\n",
        "MSE = (mean_squared_error(Yr_test, yr_test_predict))\n",
        "print(\"Pruebas: MSE =\"+str(MSE))"
      ],
      "execution_count": null,
      "outputs": []
    },
    {
      "cell_type": "code",
      "metadata": {
        "id": "V_QbBdCiVn3A"
      },
      "source": [
        "#Comparacion de predicciones\n",
        "dfr_predicciones = pd.DataFrame({'valor_real':Yr_test, 'prediccion':yr_test_predict})\n",
        "dfr_predicciones = dfr_predicciones.reset_index(drop = True)\n",
        "dfr_predicciones.head(10)"
      ],
      "execution_count": null,
      "outputs": []
    },
    {
      "cell_type": "code",
      "metadata": {
        "id": "sl5t5goRVrOI"
      },
      "source": [
        "plt.figure(figsize=(10,6))\n",
        "plt.plot(dfr_predicciones,\"-\")\n",
        "plt.xlabel(\"Time\")\n",
        "plt.ylabel(\"Value\")\n",
        "plt.grid(True)"
      ],
      "execution_count": null,
      "outputs": []
    },
    {
      "cell_type": "code",
      "metadata": {
        "id": "BAYZYDv-Vuda"
      },
      "source": [
        "#Proyeccion empresa mediana\n",
        "Xe = CI_Emp_Med[['MegaWatt_hour', 'QuantityUsers','Y34R']]\n",
        "Ye = CI_Emp_Med['CentsPerKW_hour']"
      ],
      "execution_count": null,
      "outputs": []
    },
    {
      "cell_type": "code",
      "metadata": {
        "id": "1wwnEVEWVyTO"
      },
      "source": [
        "Xe_train, Xe_test, Ye_train, Ye_test = train_test_split(Xe, Ye, test_size = 0.4, random_state=5)\n",
        "print(Xe_train.shape)\n",
        "print(Xe_test.shape)\n",
        "print(Ye_train.shape)\n",
        "print(Ye_test.shape)"
      ],
      "execution_count": null,
      "outputs": []
    },
    {
      "cell_type": "code",
      "metadata": {
        "id": "Md3MZPOKV2j4"
      },
      "source": [
        "lin_model = LinearRegression()\n",
        "lin_model.fit(Xe_train, Ye_train)"
      ],
      "execution_count": null,
      "outputs": []
    },
    {
      "cell_type": "code",
      "metadata": {
        "id": "WZgntOfeV5er"
      },
      "source": [
        "ye_train_predict = lin_model.predict(Xe_train)\n",
        "MSE = mean_squared_error(Ye_train,ye_train_predict)\n",
        "print(\"Entrenamiento: MSE =\"+str(MSE))\n",
        "\n",
        "ye_test_predict = lin_model.predict(Xe_test)\n",
        "MSE = (mean_squared_error(Ye_test, ye_test_predict))\n",
        "print(\"Pruebas: MSE =\"+str(MSE))"
      ],
      "execution_count": null,
      "outputs": []
    },
    {
      "cell_type": "code",
      "metadata": {
        "id": "AU4jMroEUzjb"
      },
      "source": [
        "dfe_predicciones = pd.DataFrame({'valor_real':Ye_test, 'prediccion':ye_test_predict})\n",
        "dfe_predicciones = dfe_predicciones.reset_index(drop = True)\n",
        "dfe_predicciones.head(10)"
      ],
      "execution_count": null,
      "outputs": []
    },
    {
      "cell_type": "code",
      "metadata": {
        "id": "jF3rXvfXU2Fd"
      },
      "source": [
        "plt.figure(figsize=(10,6))\n",
        "plt.plot(dfe_predicciones,\"-\")\n",
        "plt.xlabel(\"Time\")\n",
        "plt.ylabel(\"Value\")\n",
        "plt.grid(True)"
      ],
      "execution_count": null,
      "outputs": []
    },
    {
      "cell_type": "code",
      "metadata": {
        "id": "X438fEJ0U5I4"
      },
      "source": [
        "#Proyeccion gran industria\n",
        "Xg = CI_G_Ind[['MegaWatt_hour', 'QuantityUsers','Y34R']]\n",
        "Yg = CI_G_Ind['CentsPerKW_hour']"
      ],
      "execution_count": null,
      "outputs": []
    },
    {
      "cell_type": "code",
      "metadata": {
        "id": "Ur_QLNqRU_D_"
      },
      "source": [
        "Xg_train, Xg_test, Yg_train, Yg_test = train_test_split(Xg, Yg, test_size = 0.4, random_state=5)\n",
        "print(Xg_train.shape)\n",
        "print(Xg_test.shape)\n",
        "print(Yg_train.shape)\n",
        "print(Yg_test.shape)"
      ],
      "execution_count": null,
      "outputs": []
    },
    {
      "cell_type": "code",
      "metadata": {
        "id": "DJk90sxTVC3i"
      },
      "source": [
        "lin_model = LinearRegression()\n",
        "lin_model.fit(Xg_train, Yg_train)"
      ],
      "execution_count": null,
      "outputs": []
    },
    {
      "cell_type": "code",
      "metadata": {
        "id": "wiTnVwB1VGbG"
      },
      "source": [
        "yg_train_predict = lin_model.predict(Xg_train)\n",
        "MSE = mean_squared_error(Yg_train,yg_train_predict)\n",
        "print(\"Entrenamiento: MSE =\"+str(MSE))\n",
        "\n",
        "yg_test_predict = lin_model.predict(Xg_test)\n",
        "MSE = (mean_squared_error(Yg_test, yg_test_predict))\n",
        "print(\"Pruebas: MSE =\"+str(MSE))"
      ],
      "execution_count": null,
      "outputs": []
    },
    {
      "cell_type": "code",
      "metadata": {
        "id": "rh6QUKMdVJ6B"
      },
      "source": [
        "dfg_predicciones = pd.DataFrame({'valor_real':Yg_test, 'prediccion':yg_test_predict})\n",
        "dfg_predicciones = dfg_predicciones.reset_index(drop = True)\n",
        "dfg_predicciones.head(10)"
      ],
      "execution_count": null,
      "outputs": []
    },
    {
      "cell_type": "code",
      "metadata": {
        "id": "MrgzLJd1VO3y"
      },
      "source": [
        "plt.figure(figsize=(10,6))\n",
        "plt.plot(dfg_predicciones,\"-\")\n",
        "plt.xlabel(\"Time\")\n",
        "plt.ylabel(\"Value\")\n",
        "plt.grid(True)"
      ],
      "execution_count": null,
      "outputs": []
    },
    {
      "cell_type": "code",
      "metadata": {
        "id": "caVqitlnV8rN"
      },
      "source": [
        ""
      ],
      "execution_count": null,
      "outputs": []
    }
  ]
}