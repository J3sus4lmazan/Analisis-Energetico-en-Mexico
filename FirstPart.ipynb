{
  "nbformat": 4,
  "nbformat_minor": 0,
  "metadata": {
    "colab": {
      "name": "FirstPart.ipynb",
      "provenance": [],
      "collapsed_sections": [],
      "authorship_tag": "ABX9TyPSP8lg9Z237OEag3DONPFG",
      "include_colab_link": true
    },
    "kernelspec": {
      "name": "python3",
      "display_name": "Python 3"
    },
    "language_info": {
      "name": "python"
    }
  },
  "cells": [
    {
      "cell_type": "markdown",
      "metadata": {
        "id": "view-in-github",
        "colab_type": "text"
      },
      "source": [
        "<a href=\"https://colab.research.google.com/github/J3sus4lmazan/Analisis-Energetico-en-Mexico/blob/main/FirstPart.ipynb\" target=\"_parent\"><img src=\"https://colab.research.google.com/assets/colab-badge.svg\" alt=\"Open In Colab\"/></a>"
      ]
    },
    {
      "cell_type": "code",
      "metadata": {
        "id": "slmlhaNfFAYA"
      },
      "source": [
        "#Conexion a base de datos local\n",
        "import mysql.connector\n",
        "import pandas as pd\n",
        "import numpy as np\n",
        "import matplotlib.pyplot as plt\n",
        "import seaborn as sns\n",
        "import re\n",
        "import geopandas as gpd\n",
        "import tensorflow as tf\n",
        "from sklearn.model_selection import train_test_split\n",
        "from sklearn.cluster import KMeans\n",
        "from sklearn.linear_model import LinearRegression\n",
        "from sklearn.metrics import mean_squared_error"
      ],
      "execution_count": null,
      "outputs": []
    },
    {
      "cell_type": "code",
      "metadata": {
        "id": "dRvRjCwvFL4a"
      },
      "source": [
        "cnx = mysql.connector.connect(\n",
        "    host=\"localhost\",\n",
        "    port=3306,\n",
        "    user=\"root\",\n",
        "    password='hola20',\n",
        "    database='miproyecto'\n",
        ")\n",
        "cursor = cnx.cursor()"
      ],
      "execution_count": null,
      "outputs": []
    },
    {
      "cell_type": "code",
      "metadata": {
        "id": "TL_da7oMFU9e"
      },
      "source": [
        "#Se obtienen la informacion de la tabla generacion bruta por tecnologia\n",
        "cursor.execute(\"SELECT * FROM genbrutatech\")\n",
        "GBT = cursor.fetchall() #Generacion bruta por tecnologia\n",
        "GBTdf = pd.DataFrame(GBT, columns=['GBT_ID', 'Month_Year', 'EnergyTypeID', 'MegaWatt_hourTotal', 'CapMWattPerTech'])\n",
        "GBTdf = GBTdf.set_index('GBT_ID', drop=True)\n",
        "GBTdf.head()"
      ],
      "execution_count": null,
      "outputs": []
    },
    {
      "cell_type": "code",
      "metadata": {
        "id": "8MoEtzh2FbjB"
      },
      "source": [
        "#Se obtienen la informacion de la tabla Meses\n",
        "cursor.execute(\"SELECT * FROM months\")\n",
        "M = cursor.fetchall() #Meses\n",
        "Mdf = pd.DataFrame(M, columns=['Month_YearID', 'MonthDescription'])\n",
        "Mdf = Mdf.set_index('Month_YearID', drop=True)\n",
        "Mdf['MonthDescription']=Mdf['MonthDescription'].replace(['ene-05','05-Feb','05-Mar','abr-05','05-May','05-Jun','05-Jul',\n",
        "                 'ago-05','05-Sep','05-Oct','05-Nov','dic-05'],'2005')\n",
        "Mdf['MonthDescription']=Mdf['MonthDescription'].replace(['ene-06','06-Feb','06-Mar','abr-06','06-May','06-Jun','06-Jul',\n",
        "                 'ago-06','06-Sep','06-Oct','06-Nov','dic-06'],'2006')\n",
        "Mdf['MonthDescription']=Mdf['MonthDescription'].replace(['ene-07','07-Feb','07-Mar','abr-07','07-May','07-Jun','07-Jul',\n",
        "                 'ago-07','07-Sep','07-Oct','07-Nov','dic-07'],'2007')\n",
        "Mdf['MonthDescription']=Mdf['MonthDescription'].replace(['ene-08','08-Feb','08-Mar','abr-08','08-May','08-Jun','08-Jul',\n",
        "                 'ago-08','08-Sep','08-Oct','08-Nov','dic-08'],'2008')\n",
        "Mdf['MonthDescription']=Mdf['MonthDescription'].replace(['ene-09','09-Feb','09-Mar','abr-09','09-May','09-Jun','09-Jul',\n",
        "                 'ago-09','09-Sep','09-Oct','09-Nov','dic-09'],'2009')\n",
        "Mdf['MonthDescription']=Mdf['MonthDescription'].replace(['ene-10','10-Feb','10-Mar','abr-10','10-May','10-Jun','10-Jul',\n",
        "                 'ago-10','10-Sep','10-Oct','10-Nov','dic-10'],'2010')\n",
        "Mdf['MonthDescription']=Mdf['MonthDescription'].replace(['ene-11','11-Feb','11-Mar','abr-11','11-May','11-Jun','11-Jul',\n",
        "                 'ago-11','11-Sep','11-Oct','11-Nov','dic-11'],'2011')\n",
        "Mdf['MonthDescription']=Mdf['MonthDescription'].replace(['ene-12','12-Feb','12-Mar','abr-12','12-May','12-Jun','12-Jul',\n",
        "                 'ago-12','12-Sep','12-Oct','12-Nov','dic-12'],'2012')\n",
        "Mdf['MonthDescription']=Mdf['MonthDescription'].replace(['ene-13','13-Feb','13-Mar','abr-13','13-May','13-Jun','13-Jul',\n",
        "                 'ago-13','13-Sep','13-Oct','13-Nov','dic-13'],'2013')\n",
        "Mdf['MonthDescription']=Mdf['MonthDescription'].replace(['ene-14','14-Feb','14-Mar','abr-14','14-May','14-Jun','14-Jul',\n",
        "                 'ago-14','14-Sep','14-Oct','14-Nov','dic-14'],'2014')\n",
        "Mdf['MonthDescription']=Mdf['MonthDescription'].replace(['ene-15','15-Feb','15-Mar','abr-15','15-May','15-Jun','15-Jul',\n",
        "                 'ago-15','15-Sep','15-Oct','15-Nov','dic-15'],'2015')\n",
        "Mdf['MonthDescription']=Mdf['MonthDescription'].replace(['ene-16','16-Feb','16-Mar','abr-16','16-May','16-Jun','16-Jul',\n",
        "                 'ago-16','16-Sep','16-Oct','16-Nov','dic-16'],'2016')\n",
        "Mdf['MonthDescription']=Mdf['MonthDescription'].replace(['ene-17','17-Feb','17-Mar','abr-17','17-May','17-Jun','17-Jul',\n",
        "                 'ago-17','17-Sep','17-Oct','17-Nov','dic-17'],'2017')\n",
        "Mdf['MonthDescription']=Mdf['MonthDescription'].replace(['ene-18','18-Feb','18-Mar','abr-18','18-May','18-Jun','18-Jul',\n",
        "                 'ago-18','18-Sep','18-Oct','18-Nov','dic-18'],'2018')\n",
        "Mdf['MonthDescription']=Mdf['MonthDescription'].replace(['ene-19','19-Feb','19-Mar','abr-19','19-May','19-Jun','19-Jul',\n",
        "                 'ago-19','19-Sep','19-Oct','19-Nov','dic-19'],'2019')\n",
        "Mdf.head()"
      ],
      "execution_count": null,
      "outputs": []
    },
    {
      "cell_type": "code",
      "metadata": {
        "id": "CRWvfj6gFih6"
      },
      "source": [
        "#Se obtienen la informacion de tipo de energia\n",
        "cursor.execute(\"SELECT * FROM energytypes\")\n",
        "ET = cursor.fetchall() #Tipo de energia\n",
        "ETdf = pd.DataFrame(ET, columns=['EnergyTypeID', 'EnergyTypeName'])\n",
        "ETdf = ETdf.set_index('EnergyTypeID', drop=True)\n",
        "ETdf"
      ],
      "execution_count": null,
      "outputs": []
    },
    {
      "cell_type": "code",
      "metadata": {
        "id": "WwudsJwjFmh1"
      },
      "source": [
        "#Se unen las 3 tablas\n",
        "GBT_full = pd.merge(GBTdf, Mdf, left_on='Month_Year', right_index=True).sort_index()\n",
        "GBT_full = pd.merge(GBT_full, ETdf, left_on='EnergyTypeID', right_index=True).sort_index()\n",
        "GBT_full = GBT_full.dropna(axis = 0, how = 'any') #Se retiran los NaN\n",
        "GBT_full = GBT_full.drop(columns=['Month_Year', 'EnergyTypeID']) #Se retiran las columnas con valores referenciales\n",
        "GBT_full"
      ],
      "execution_count": null,
      "outputs": []
    },
    {
      "cell_type": "code",
      "metadata": {
        "id": "ww4IW-YWFqHK"
      },
      "source": [
        "#Se obtiene la informacion de la energia generada por estado\n",
        "cursor.execute(\"SELECT GBS_ID, MegaWatt_hourTotal, MonthDescription, StateName FROM genbruperstate JOIN months ON genbruperstate.Month_YearID = months.Month_YearID JOIN states ON states.State_ID = genbruperstate.State_ID;\") \n",
        "               #genbruperstate.Month_YearID, genbruperstate.State_ID  columnas con valores referenciales\n",
        "GBS = cursor.fetchall() #Generacion bruta por estado\n",
        "GBSdf = pd.DataFrame(GBS, columns=['GBS_ID', 'MegaWatt_hourTotal', 'MonthDescription', 'StateName'])\n",
        "#, 'Month_YearID', 'State_ID'\n",
        "GBSdf = GBSdf.set_index('GBS_ID', drop=True)\n",
        "GBSdf = GBSdf.dropna(axis = 0, how = 'any') #Se retiran los NaN\n",
        "GBSdf['MonthDescription']=GBSdf['MonthDescription'].replace(['ene-05','05-Feb','05-Mar','abr-05','05-May','05-Jun','05-Jul',\n",
        "                 'ago-05','05-Sep','05-Oct','05-Nov','dic-05'],'2005')\n",
        "GBSdf['MonthDescription']=GBSdf['MonthDescription'].replace(['ene-06','06-Feb','06-Mar','abr-06','06-May','06-Jun','06-Jul',\n",
        "                 'ago-06','06-Sep','06-Oct','06-Nov','dic-06'],'2006')\n",
        "GBSdf['MonthDescription']=GBSdf['MonthDescription'].replace(['ene-07','07-Feb','07-Mar','abr-07','07-May','07-Jun','07-Jul',\n",
        "                 'ago-07','07-Sep','07-Oct','07-Nov','dic-07'],'2007')\n",
        "GBSdf['MonthDescription']=GBSdf['MonthDescription'].replace(['ene-08','08-Feb','08-Mar','abr-08','08-May','08-Jun','08-Jul',\n",
        "                 'ago-08','08-Sep','08-Oct','08-Nov','dic-08'],'2008')\n",
        "GBSdf['MonthDescription']=GBSdf['MonthDescription'].replace(['ene-09','09-Feb','09-Mar','abr-09','09-May','09-Jun','09-Jul',\n",
        "                 'ago-09','09-Sep','09-Oct','09-Nov','dic-09'],'2009')\n",
        "GBSdf['MonthDescription']=GBSdf['MonthDescription'].replace(['ene-10','10-Feb','10-Mar','abr-10','10-May','10-Jun','10-Jul',\n",
        "                 'ago-10','10-Sep','10-Oct','10-Nov','dic-10'],'2010')\n",
        "GBSdf['MonthDescription']=GBSdf['MonthDescription'].replace(['ene-11','11-Feb','11-Mar','abr-11','11-May','11-Jun','11-Jul',\n",
        "                 'ago-11','11-Sep','11-Oct','11-Nov','dic-11'],'2011')\n",
        "GBSdf['MonthDescription']=GBSdf['MonthDescription'].replace(['ene-12','12-Feb','12-Mar','abr-12','12-May','12-Jun','12-Jul',\n",
        "                 'ago-12','12-Sep','12-Oct','12-Nov','dic-12'],'2012')\n",
        "GBSdf['MonthDescription']=GBSdf['MonthDescription'].replace(['ene-13','13-Feb','13-Mar','abr-13','13-May','13-Jun','13-Jul',\n",
        "                 'ago-13','13-Sep','13-Oct','13-Nov','dic-13'],'2013')\n",
        "GBSdf['MonthDescription']=GBSdf['MonthDescription'].replace(['ene-14','14-Feb','14-Mar','abr-14','14-May','14-Jun','14-Jul',\n",
        "                 'ago-14','14-Sep','14-Oct','14-Nov','dic-14'],'2014')\n",
        "GBSdf['MonthDescription']=GBSdf['MonthDescription'].replace(['ene-15','15-Feb','15-Mar','abr-15','15-May','15-Jun','15-Jul',\n",
        "                 'ago-15','15-Sep','15-Oct','15-Nov','dic-15'],'2015')\n",
        "GBSdf['MonthDescription']=GBSdf['MonthDescription'].replace(['ene-16','16-Feb','16-Mar','abr-16','16-May','16-Jun','16-Jul',\n",
        "                 'ago-16','16-Sep','16-Oct','16-Nov','dic-16'],'2016')\n",
        "GBSdf['MonthDescription']=GBSdf['MonthDescription'].replace(['ene-17','17-Feb','17-Mar','abr-17','17-May','17-Jun','17-Jul',\n",
        "                 'ago-17','17-Sep','17-Oct','17-Nov','dic-17'],'2017')\n",
        "GBSdf['MonthDescription']=GBSdf['MonthDescription'].replace(['ene-18','18-Feb','18-Mar','abr-18','18-May','18-Jun','18-Jul',\n",
        "                 'ago-18','18-Sep','18-Oct','18-Nov','dic-18'],'2018')\n",
        "GBSdf['MonthDescription']=GBSdf['MonthDescription'].replace(['ene-19','19-Feb','19-Mar','abr-19','19-May','19-Jun','19-Jul',\n",
        "                 'ago-19','19-Sep','19-Oct','19-Nov','dic-19'],'2019')\n",
        "GBSdf.head()"
      ],
      "execution_count": null,
      "outputs": []
    },
    {
      "cell_type": "code",
      "metadata": {
        "id": "bqbB5cHIFwIJ"
      },
      "source": [
        "#Se obtiene la informacion de la tabla de capacidad efectiva\n",
        "cursor.execute(\"SELECT * FROM effectivecap\")\n",
        "EFC = cursor.fetchall() #Capacidad efectiva\n",
        "EFCdf = pd.DataFrame(EFC, columns=['EFC_ID', 'MegaWatt', 'Month_YearID', 'State_ID'])\n",
        "EFCdf = EFCdf.set_index('EFC_ID', drop=True)\n",
        "#Se obtiene la informacion de la tabla de estados\n",
        "cursor.execute(\"SELECT * FROM states\")\n",
        "S = cursor.fetchall() #Estados\n",
        "Sdf = pd.DataFrame(S, columns=['State_ID', 'StateName'])\n",
        "Sdf = Sdf.set_index('State_ID', drop=True)\n",
        "#Se combinan las 3 tablas\n",
        "EFC_full = pd.merge(EFCdf, Mdf, left_on='Month_YearID', right_index=True).sort_index()\n",
        "EFC_full = pd.merge(EFC_full, Sdf, left_on='State_ID', right_index=True).sort_index()\n",
        "EFC_full = EFC_full.dropna(axis = 0, how = 'any') #Se retiran los NaN\n",
        "EFC_full = EFC_full.drop(columns=['Month_YearID', 'State_ID']) #Se retiran las columnas con valores referenciales\n",
        "EFC_full"
      ],
      "execution_count": null,
      "outputs": []
    },
    {
      "cell_type": "code",
      "metadata": {
        "id": "CUEo8eIxF2Eq"
      },
      "source": [
        "#Se obtiene la informacion de la tabla de comercio interior\n",
        "cursor.execute(\"SELECT * FROM comerciointer\")\n",
        "CI = cursor.fetchall() #Comercio interior\n",
        "CIdf = pd.DataFrame(CI, columns=['CI_ID', 'MegaWatt_hour', 'QuantityUsers', 'Month_YearID', 'Sector', 'CentsPerKW_hour'])\n",
        "CIdf = CIdf.set_index('CI_ID', drop=True)\n",
        "#Se combinan con la tabla de meses\n",
        "CI_full = pd.merge(CIdf, Mdf, left_on='Month_YearID', right_index=True).sort_index()\n",
        "CI_full = CI_full.dropna(axis = 0, how = 'any') #Se retiran los NaN\n",
        "CI_full = CI_full.drop(columns=['Month_YearID']) #Se retiran las columnas con valores referenciales\n",
        "CI_full.head()"
      ],
      "execution_count": null,
      "outputs": []
    },
    {
      "cell_type": "code",
      "metadata": {
        "id": "pj8K1AMQF6f6"
      },
      "source": [
        "#Se obtiene la informacion de la tabla de comercio exterior\n",
        "cursor.execute(\"SELECT * FROM comercioexter\")\n",
        "CE = cursor.fetchall() #Comercio exterior\n",
        "CEdf = pd.DataFrame(CE, columns=['CE_ID', 'MegaWatt_hour', 'Month_YearID', 'Country', 'IMP_EXP'])\n",
        "CEdf = CEdf.set_index('CE_ID', drop=True)\n",
        "#Se combinan con la tabla de meses\n",
        "CE_full = pd.merge(CEdf, Mdf, left_on='Month_YearID', right_index=True).sort_index()\n",
        "CE_full = CE_full.dropna(axis = 0, how = 'any') #Se retiran los NaN\n",
        "CE_full = CE_full.drop(columns=['Month_YearID']) #Se retiran las columnas con valores referenciales\n",
        "CE_full.head()"
      ],
      "execution_count": null,
      "outputs": []
    },
    {
      "cell_type": "code",
      "metadata": {
        "id": "IYavPTNaF-qY"
      },
      "source": [
        "#¿Cuanta diferencia de energia producida por termoelectica existe con respecto a la fotovoltaica y eolica?\n",
        "Q1 = GBT_full.groupby('EnergyTypeName').sum()\n",
        "total_termoelectrica = Q1.iloc[7, 0]\n",
        "total_fotovoltaica = Q1.iloc[3,0]\n",
        "total_eolica = Q1.iloc[2,0]\n",
        "diferencia_1 = total_termoelectrica / total_fotovoltaica\n",
        "diferencia_2 = total_termoelectrica / total_eolica\n",
        "print(\"Se produce\", diferencia_1, \"veces mas energia termoelectrica que fotovoltaica\", \"\\n\", \"Se produce\", diferencia_2, \"veces mas energia termoelectrica que eolica\")"
      ],
      "execution_count": null,
      "outputs": []
    },
    {
      "cell_type": "code",
      "metadata": {
        "id": "kyq3i3YaGDWU"
      },
      "source": [
        "#¿Cuales son los 3 principales estados que más producen energia?\n",
        "Q2 = GBSdf.groupby('StateName').sum()\n",
        "Q2 = Q2.sort_values('MegaWatt_hourTotal', ascending=False)\n",
        "Q2 = Q2.iloc[0:3]\n",
        "Q2 / 1000000 #cantidad en millon por megawatt hora"
      ],
      "execution_count": null,
      "outputs": []
    },
    {
      "cell_type": "code",
      "metadata": {
        "id": "8Ag-ewGcGHXv"
      },
      "source": [
        "#¿Cual es el estado con mayor capacidad efectiva en la actualidad?\n",
        "Q3 = EFC_full.groupby('StateName').sum()\n",
        "Q3 = Q3.sort_values('MegaWatt', ascending=False)\n",
        "Q3 = Q3.iloc[0:3]\n",
        "Q3"
      ],
      "execution_count": null,
      "outputs": []
    },
    {
      "cell_type": "code",
      "metadata": {
        "id": "ce6Xw6LSGLc3"
      },
      "source": [
        "#¿Cuál es el sector que más consumo de energía realiza?\n",
        "Q4 = CI_full.groupby('Sector').sum()\n",
        "Q4 = Q4.sort_values('MegaWatt_hour', ascending = False)\n",
        "Q4.iloc[0]"
      ],
      "execution_count": null,
      "outputs": []
    },
    {
      "cell_type": "code",
      "metadata": {
        "id": "NhmWtgjbGPlN"
      },
      "source": [
        "#¿Cuál es el promedio de energia que se exporta a Estados Unidos?\n",
        "Q5 = CE_full.groupby('Country').mean()\n",
        "Q5 = Q5[Q5.index == 'Estados Unidos']\n",
        "Q5"
      ],
      "execution_count": null,
      "outputs": []
    },
    {
      "cell_type": "code",
      "metadata": {
        "id": "OMp_W0cOGTkt"
      },
      "source": [
        "#Se cierra el cursor\n",
        "cursor.close()\n",
        "#TABLAS\n",
        "#GBT_full   Generacion bruta por tipo de tecnologia\n",
        "#GBSdf      Generacion bruta por estado\n",
        "#CI_full    Comercio Interno\n",
        "#CE_full    Comercio exterior"
      ],
      "execution_count": null,
      "outputs": []
    },
    {
      "cell_type": "code",
      "metadata": {
        "id": "EUb2A03MGXuE"
      },
      "source": [
        "GBT_by_year = GBT_full.groupby('MonthDescription')['MegaWatt_hourTotal'].mean()\n",
        "Grafica_GBT_1 = GBT_by_year.plot(kind='bar',cmap='cool')\n",
        "plt.ylabel('Mega Watts hora')\n",
        "plt.xlabel('Año')\n",
        "plt.title('Promedio de Energia generada 2005-2019');"
      ],
      "execution_count": null,
      "outputs": []
    },
    {
      "cell_type": "code",
      "metadata": {
        "id": "tDLM_OxnGbhs"
      },
      "source": [
        "GBT_by_energy = GBT_full.groupby('EnergyTypeName')['MegaWatt_hourTotal'].sum()\n",
        "plt.figure(figsize=(10,6))\n",
        "Grafica_2_GBT = GBT_by_energy.plot(kind='pie',cmap='Paired')\n",
        "plt.ylabel('')\n",
        "plt.xlabel('Tipos de energia')\n",
        "plt.title('Energia generada 2005-2019 por tipo de tecnologia');"
      ],
      "execution_count": null,
      "outputs": []
    },
    {
      "cell_type": "code",
      "metadata": {
        "id": "4b7J6-tCGfky"
      },
      "source": [
        "fig, axes = plt.subplots(4, 2, figsize=(10, 8), sharex=True, sharey=True)\n",
        "\n",
        "sns.barplot(GBT_by_energy['MegaWatt_hourTotal'], GBT_by_energy.loc[1], ax=axes[0, 0])\n",
        "sns.barplot(GBT_by_energy['MegaWatt_hourTotal'], GBT_by_energy.loc[2], ax=axes[0, 1])\n",
        "sns.barplot(GBT_by_energy['MegaWatt_hourTotal'], GBT_by_energy.loc[3], ax=axes[1, 0])\n",
        "sns.barplot(GBT_by_energy['MegaWatt_hourTotal'], GBT_by_energy.loc[4], ax=axes[1, 1])\n",
        "sns.barplot(GBT_by_energy['MegaWatt_hourTotal'], GBT_by_energy.loc[5], ax=axes[2, 0])\n",
        "sns.barplot(GBT_by_energy['MegaWatt_hourTotal'], GBT_by_energy.loc[6], ax=axes[2, 1])\n",
        "sns.barplot(GBT_by_energy['MegaWatt_hourTotal'], GBT_by_energy.loc[7], ax=axes[3, 0])\n",
        "sns.barplot(GBT_by_energy['MegaWatt_hourTotal'], GBT_by_energy.loc[8], ax=axes[3, 1])\n",
        "\n",
        "axes[0, 0].set(xlabel='', ylabel='', title='Rango de Precio: 1')\n",
        "axes[0, 1].set(xlabel='', ylabel='', title='Rango de Precio: 2')\n",
        "axes[1, 0].set(xlabel='', ylabel='', title='Rango de Precio: 3')\n",
        "axes[1, 1].set(xlabel='', ylabel='', title='Rango de Precio: 4')\n",
        "axes[2, 0].set(xlabel='', ylabel='', title='Rango de Precio: 5')\n",
        "axes[2, 1].set(xlabel='', ylabel='', title='Rango de Precio: 6')\n",
        "axes[3, 0].set(xlabel='', ylabel='', title='Rango de Precio: 7')\n",
        "axes[3, 1].set(xlabel='', ylabel='', title='Rango de Precio: 8')\n",
        "\n",
        "fig.suptitle('Energia generada separada por tipo', fontsize=15);"
      ],
      "execution_count": null,
      "outputs": []
    },
    {
      "cell_type": "code",
      "metadata": {
        "id": "wKf4pICEGkLm"
      },
      "source": [
        "N = GBT_full.groupby('MonthDescription').sum()\n",
        "sns.set(style=\"whitegrid\");\n",
        "\n",
        "sns.boxplot(x=N['MegaWatt_hourTotal']);\n",
        "plt.axvline(x=N['MegaWatt_hourTotal'].mean(), c='y');\n",
        "\n",
        "iqr = N['MegaWatt_hourTotal'].quantile(0.75) - N['MegaWatt_hourTotal'].quantile(0.25)\n",
        "filtro_inferior = N['MegaWatt_hourTotal'] > N['MegaWatt_hourTotal'].quantile(0.25) - (iqr * 1.5) \n",
        "filtro_superior = N['MegaWatt_hourTotal'] < N['MegaWatt_hourTotal'].quantile(0.75) + (iqr * 1.5)\n",
        "\n",
        "df_filtrado = N[filtro_inferior & filtro_superior]\n",
        "sns.boxplot(df_filtrado['MegaWatt_hourTotal']);"
      ],
      "execution_count": null,
      "outputs": []
    },
    {
      "cell_type": "code",
      "metadata": {
        "id": "V_OVn2H0Goh4"
      },
      "source": [
        "import geopandas as gpd\n",
        "df_geo = gpd.read_file('../Procesamiendo de datos/mexico.json')\n",
        "df_geo = df_geo.merge(EFC_full, left_on='name', right_on='StateName')\n",
        "geojson = '../Procesamiendo de datos/mexico.json'\n",
        "df_geo.head(2)"
      ],
      "execution_count": null,
      "outputs": []
    },
    {
      "cell_type": "code",
      "metadata": {
        "id": "NLLNwOkTUoJm"
      },
      "source": [
        "import folium\n",
        "mapa = folium.Map(location=[24.5, -99], zoom_start=4.5)\n",
        "\n",
        "## LAYER 1 - Mapa cloropletico\n",
        "folium.Choropleth(\n",
        "    geo_data=geojson,\n",
        "    data=EFC_full,\n",
        "    columns=['StateName', 'MegaWatt'],\n",
        "    key_on='feature.properties.name',\n",
        "    fill_color='YlOrBr',\n",
        ").add_to(mapa)\n",
        "\n",
        "\n",
        "## Layer 2 - Tooltip\n",
        "\n",
        "## CSS\n",
        "style_function = lambda x: {'fillColor': '#ffffff', \n",
        "                            'color':'#000000', \n",
        "                            'fillOpacity': 0.1, \n",
        "                            'weight': 0.1}\n",
        "highlight_function = lambda x: {'fillColor': '#000000', \n",
        "                                'color':'#000000', \n",
        "                                'fillOpacity': 0.50, \n",
        "                                'weight': 0.1}\n",
        "\n",
        "tooltip = folium.features.GeoJson(\n",
        "    df_geo,\n",
        "    style_function=style_function,\n",
        "    highlight_function=highlight_function,\n",
        "    tooltip=folium.features.GeoJsonTooltip(\n",
        "        fields=['StateName', 'MegaWatt'],\n",
        "        aliases=['Estado', 'Mega Watts Generados']\n",
        "    )\n",
        ")\n",
        "\n",
        "mapa.add_child(tooltip)\n",
        "mapa.keep_in_front(tooltip)\n",
        "folium.LayerControl().add_to(mapa)\n",
        "\n",
        "mapa"
      ],
      "execution_count": null,
      "outputs": []
    },
    {
      "cell_type": "code",
      "metadata": {
        "id": "qUcyRQR2UuHA"
      },
      "source": [
        "#Machine Learning\n",
        "#Aqui elegiremos 2 campos: Cantidad de energia consumida, y cantidad de usuarios. Dando como resultado el tipo de sector\n",
        "X = CI_full[['MegaWatt_hour', 'QuantityUsers']]\n",
        "Y = CI_full['Sector'].map({\n",
        "    'Residencial':1,\n",
        "    'Comercial':2,\n",
        "    'Servicios':3,\n",
        "    'Agricola':4,\n",
        "    'Empresa Mediana':5,\n",
        "    'Gran Industria':6})"
      ],
      "execution_count": null,
      "outputs": []
    },
    {
      "cell_type": "code",
      "metadata": {
        "id": "dpOjyIwMUzTR"
      },
      "source": [
        "#Dividir los datos en Train y Test\n",
        "X_train, X_test, Y_train, Y_test = train_test_split(X, Y, test_size = 0.4, random_state=5)\n",
        "print(X_train.shape)\n",
        "print(X_test.shape)\n",
        "print(Y_train.shape)\n",
        "print(Y_test.shape)"
      ],
      "execution_count": null,
      "outputs": []
    },
    {
      "cell_type": "code",
      "metadata": {
        "id": "6tgBQwR-U37I"
      },
      "source": [
        "#Entrenamiento y prediccion\n",
        "lin_model = LinearRegression()\n",
        "lin_model.fit(X_train, Y_train)"
      ],
      "execution_count": null,
      "outputs": []
    },
    {
      "cell_type": "code",
      "metadata": {
        "id": "WsJ5nSSIVDAS"
      },
      "source": [
        "y_train_predict = lin_model.predict(X_train)\n",
        "MSE = mean_squared_error(Y_train,y_train_predict)\n",
        "print(\"Entrenamiento: MSE =\"+str(MSE))\n",
        "\n",
        "y_test_predict = lin_model.predict(X_test)\n",
        "MSE = (mean_squared_error(Y_test, y_test_predict))\n",
        "print(\"Pruebas: MSE =\"+str(MSE))"
      ],
      "execution_count": null,
      "outputs": []
    },
    {
      "cell_type": "code",
      "metadata": {
        "id": "-p4zcKPHVGyA"
      },
      "source": [
        "#Comparacion de predicciones\n",
        "df_predicciones = pd.DataFrame({'valor_real':Y_test, 'prediccion':y_test_predict})\n",
        "df_predicciones = df_predicciones.reset_index(drop = True)\n",
        "df_predicciones.head(10)"
      ],
      "execution_count": null,
      "outputs": []
    },
    {
      "cell_type": "code",
      "metadata": {
        "id": "GUnaTdpcVKis"
      },
      "source": [
        "#Evaluar el modelo\n",
        "from sklearn.svm import SVC #Support Vector Classifier\n",
        "from sklearn.pipeline import make_pipeline"
      ],
      "execution_count": null,
      "outputs": []
    },
    {
      "cell_type": "code",
      "metadata": {
        "id": "gt94rsY2VOM8"
      },
      "source": [
        "#Evaluar SVM\n",
        "SupportVectorMachine = SVC()\n",
        "SupportVectorMachine.fit(x_train, y_train) \n",
        "y_pred_svm = SupportVectorMachine.predict(x_test) "
      ],
      "execution_count": null,
      "outputs": []
    },
    {
      "cell_type": "code",
      "metadata": {
        "id": "YmK4mPlAVRpk"
      },
      "source": [
        "evaluar(y_test, y_pred_svm)"
      ],
      "execution_count": null,
      "outputs": []
    },
    {
      "cell_type": "code",
      "metadata": {
        "id": "o-VQSjb4VUog"
      },
      "source": [
        "#Matriz de confusion\n",
        "from sklearn.metrics import confusion_matrix\n",
        "\n",
        "def calcularAccuracy(TP, TN, FP, FN):\n",
        "    accuracy = (TP + TN) / (TP + TN + FP + FN)\n",
        "    accuracy = accuracy * 100\n",
        "    return accuracy\n",
        "def calcularSensibilidad(TP, TN, FP, FN):\n",
        "    sensibilidad = TP / (TP + FN)\n",
        "    sensibilidad = sensibilidad * 100\n",
        "    return sensibilidad\n",
        "def calcularEspecificidad(TP, TN, FP, FN):\n",
        "    especificidad = TN / (TN + FP)\n",
        "    especificidad = especificidad * 100\n",
        "    return especificidad\n",
        "\n",
        "resultado = confusion_matrix(Y_test, y_test_predict)\n",
        "print(resultado)\n",
        "(TN, FP, FN, TP) = resultado.ravel()\n",
        "print(\"True positives: \"+str(TP))\n",
        "print(\"True negatives: \"+str(TN))\n",
        "print(\"False positives: \"+str(FP))\n",
        "print(\"False negative: \"+str(FN))\n",
        "\n",
        "acc = calcularAccuracy(TP, TN, FP, FN)\n",
        "sen = calcularSensibilidad(TP, TN, FP, FN)\n",
        "spec = calcularEspecificidad(TP, TN, FP, FN)\n",
        "print(\"Precision:\"+str(acc)+\"%\")\n",
        "print(\"Sensibilidad:\"+str(sen)+\"%\")\n",
        "print(\"Especificidad:\"+str(spec)+\"%\")"
      ],
      "execution_count": null,
      "outputs": []
    },
    {
      "cell_type": "code",
      "metadata": {
        "id": "WKUq61QLVZVw"
      },
      "source": [
        "#Serie de tiempo de la generacion de energia por tipo\n",
        "#transformacion del timeserie\n",
        "series = GBT_full['MegaWatt_hourTotal'].to_numpy()"
      ],
      "execution_count": null,
      "outputs": []
    },
    {
      "cell_type": "code",
      "metadata": {
        "id": "DVWIjvA6Vc_1"
      },
      "source": [
        "split_time = 1000\n",
        "\n",
        "x_train = series[:split_time]\n",
        "x_test = series[split_time:]"
      ],
      "execution_count": null,
      "outputs": []
    },
    {
      "cell_type": "code",
      "metadata": {
        "id": "ccvqKzUfVhDl"
      },
      "source": [
        "#Se definen los datos de entrada y de salida seguna la ventana de tiempo definida\n",
        "window_size = 20\n",
        "\n",
        "X = None \n",
        "Y = None\n",
        "\n",
        "for counter in range(len(x_train)-window_size-1):\n",
        "  muestra = np.array([x_train[counter:counter+window_size]])\n",
        "  salida = np.array([x_train[counter+window_size]])\n",
        "  if X is None:\n",
        "    X = muestra\n",
        "  else:\n",
        "    X = np.append(X,muestra,axis=0)\n",
        "  if Y is None:\n",
        "    Y = salida\n",
        "  else:\n",
        "    Y = np.append(Y,salida)"
      ],
      "execution_count": null,
      "outputs": []
    },
    {
      "cell_type": "code",
      "metadata": {
        "id": "YB4fasG6VkUV"
      },
      "source": [
        "#Se generan las capas \n",
        "l0 = tf.keras.layers.Dense(10, input_shape=[window_size], activation=\"relu\")\n",
        "l1 = tf.keras.layers.Dense(10, activation=\"relu\")\n",
        "l_output = tf.keras.layers.Dense(1)"
      ],
      "execution_count": null,
      "outputs": []
    },
    {
      "cell_type": "code",
      "metadata": {
        "id": "V_QbBdCiVn3A"
      },
      "source": [
        "model = tf.keras.models.Sequential([l0,l1,l_output])"
      ],
      "execution_count": null,
      "outputs": []
    },
    {
      "cell_type": "code",
      "metadata": {
        "id": "sl5t5goRVrOI"
      },
      "source": [
        "model.compile(loss=\"mse\",optimizer=tf.keras.optimizers.SGD(lr=1e-6,momentum=0.9),metrics=['mae'])"
      ],
      "execution_count": null,
      "outputs": []
    },
    {
      "cell_type": "code",
      "metadata": {
        "id": "BAYZYDv-Vuda"
      },
      "source": [
        "#Se entrena el modelo\n",
        "model.fit(X,Y,epochs=100,batch_size=32,verbose=1,validation_split=0.2)"
      ],
      "execution_count": null,
      "outputs": []
    },
    {
      "cell_type": "code",
      "metadata": {
        "id": "1wwnEVEWVyTO"
      },
      "source": [
        "#Se definen las predicciones\n",
        "forecast = []\n",
        "for time in range(len(series)-window_size):\n",
        "  forecast.append(model.predict(series[time:time+window_size][np.newaxis]))\n",
        "\n",
        "forecast = forecast[split_time-window_size:]"
      ],
      "execution_count": null,
      "outputs": []
    },
    {
      "cell_type": "code",
      "metadata": {
        "id": "Md3MZPOKV2j4"
      },
      "source": [
        "results = np.array(forecast)[:,0,0]"
      ],
      "execution_count": null,
      "outputs": []
    },
    {
      "cell_type": "code",
      "metadata": {
        "id": "WZgntOfeV5er"
      },
      "source": [
        "#Grafica\n",
        "plt.figure(figsize=(10,6))\n",
        "plt.plot(x_test,\"-\")\n",
        "plt.xlabel(\"Time\")\n",
        "plt.ylabel(\"Value\")\n",
        "plt.grid(True)\n",
        "\n",
        "plt.plot(results,\"-\")\n",
        "plt.xlabel(\"Time\")\n",
        "plt.ylabel(\"Value\")\n",
        "plt.grid(True)"
      ],
      "execution_count": null,
      "outputs": []
    },
    {
      "cell_type": "code",
      "metadata": {
        "id": "caVqitlnV8rN"
      },
      "source": [
        ""
      ],
      "execution_count": null,
      "outputs": []
    }
  ]
}